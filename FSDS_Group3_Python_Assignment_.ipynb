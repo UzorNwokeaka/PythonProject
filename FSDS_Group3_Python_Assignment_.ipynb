{
  "nbformat": 4,
  "nbformat_minor": 0,
  "metadata": {
    "colab": {
      "provenance": []
    },
    "kernelspec": {
      "name": "python3",
      "display_name": "Python 3"
    },
    "language_info": {
      "name": "python"
    }
  },
  "cells": [
    {
      "cell_type": "code",
      "source": [
        "# FSDS May'23 Cohort - Group 3 Python Coding Assignment.\n",
        "# Welcome Menu\n",
        "def welcome():\n",
        "  # Welcome message\n",
        "  import pandas as pd\n",
        "  print(\"Welcome to FSDS May'23 Cohort - Group 3 Coding Assignment\")\n",
        "  print(\"*********************************************************\")\n",
        "  print()\n",
        "  fetch = input(\"Kindly Enter your Name to proceed: \")\n",
        "  print(f\"Welcome {fetch}, please press any key to display group members\")\n",
        "  print()\n",
        "  hold = input()\n",
        "  print()\n",
        "  # List of group members\n",
        "  group_members = ['Uzordinma Nwokeaka', 'Gbenga Abidemi', 'Emmanuel Uzokwe', 'John Nwankwo', 'Basil Duwa', 'Yannick Espoere', 'DelMaria Richards',\n",
        "                   'Derrick Bime', 'Fatai Afolayan']\n",
        "  group_num = [1, 2, 3, 4, 5, 6, 7, 8, 9]\n",
        "  xlist = pd.Series(data=group_members, index=group_num)\n",
        "  print(xlist)\n",
        "  print()\n",
        "  print()\n",
        "  print(\"Copyright @10Alytics-Group 3\")"
      ],
      "metadata": {
        "id": "3miC4q7NPK-A"
      },
      "execution_count": 1,
      "outputs": []
    },
    {
      "cell_type": "code",
      "source": [
        "welcome()"
      ],
      "metadata": {
        "colab": {
          "base_uri": "https://localhost:8080/"
        },
        "id": "Rt8JK8PvQsOv",
        "outputId": "59136851-710b-420a-c419-8e510aac2738"
      },
      "execution_count": 2,
      "outputs": [
        {
          "output_type": "stream",
          "name": "stdout",
          "text": [
            "Welcome to FSDS May'23 Cohort - Group 3 Coding Assignment\n",
            "*********************************************************\n",
            "\n",
            "Kindly Enter your Name to proceed: Uzor\n",
            "Welcome Uzor, please press any key to display group members\n",
            "\n",
            "\n",
            "\n",
            "1    Uzordinma Nwokeaka\n",
            "2        Gbenga Abidemi\n",
            "3       Emmanuel Uzokwe\n",
            "4          John Nwankwo\n",
            "5            Basil Duwa\n",
            "6       Yannick Espoere\n",
            "7     DelMaria Richards\n",
            "8          Derrick Bime\n",
            "9        Fatai Afolayan\n",
            "dtype: object\n",
            "\n",
            "\n",
            "Copyright @10Alytics-Group 3\n"
          ]
        }
      ]
    },
    {
      "cell_type": "code",
      "execution_count": null,
      "metadata": {
        "id": "dkvXDvKSbi1E"
      },
      "outputs": [],
      "source": [
        "# Q1: A Python code that determines student grades from inputed score.\n",
        "''' User must input a score within the range of 1 to 100 otherwise, the program will continue to ask for a valid score '''\n",
        "\n",
        "while True:\n",
        "  score = int(input(\"Please enter a valid score between 1 to 100: \"))\n",
        "\n",
        "  # Loop tests the score to determine it's within the range\n",
        "  if 1 <= score <= 100:\n",
        "\n",
        "    # Loop determines the actual grade of the score\n",
        "    if score >= 90:\n",
        "      print(\"You have scored an 'A' \")\n",
        "    elif 80 <= score <90:\n",
        "      print(\"You have scored a 'B' \")\n",
        "    elif 70 <= score < 80:\n",
        "      print(\"You have scored a 'C' \")\n",
        "    else:\n",
        "      print(\"You have scored a 'D' \")\n",
        "    break\n",
        "else:\n",
        "  print(\"The score you entered is outside the range 1 to 100\")"
      ]
    },
    {
      "cell_type": "code",
      "source": [
        "# Q2: A Program that uses Python function to determine the ticket price based on a person's age\n",
        "''' This defines the function '''\n",
        "def ticket():\n",
        "\n",
        "  age = int(input(\"Please enter your Age: \"))\n",
        "\n",
        "  # Loop determines the category of the ticket based on the person's inputed age\n",
        "  if age <= 3:\n",
        "    print(\"Your ticket category is 'FREE' \")\n",
        "  elif age >= 3 and age <= 12:\n",
        "    print(\"Your ticket category is 'CHILD' \")\n",
        "  elif age >= 13 and age <= 64:\n",
        "    print(\"Your ticket category is 'ADULT' \")\n",
        "  else:\n",
        "    print(\"Your ticket category is 'SENIOR' \")"
      ],
      "metadata": {
        "id": "bYf8cSRrm2wc"
      },
      "execution_count": 8,
      "outputs": []
    },
    {
      "cell_type": "code",
      "source": [
        "# Code calls and executes the ticket function.\n",
        "ticket()\n"
      ],
      "metadata": {
        "id": "-HWIITYUnmU2"
      },
      "execution_count": null,
      "outputs": []
    },
    {
      "cell_type": "code",
      "source": [
        "# Q3: A Python code that continually prompts a user to enter their password until they enter the 'correct' password\n",
        "''' This creates user's name and password '''\n",
        "import getpass\n",
        "print(\"Hi there, kindly create your name & password\")\n",
        "name = input(\"Please enter your name: \")\n",
        "pw = getpass.getpass(\"Please enter your password: \")\n",
        "print(f\"Your name is {name}, and you have successfully registered your password\")\n",
        "\n",
        "# Function collects and checks the user's created password.\n",
        "# If false will continue until true.\n",
        "def password():\n",
        "  correct_password = pw\n",
        "  password = input(\"Please enter your correct password: \")\n",
        "  while password != correct_password:\n",
        "    print(\"Your password is Incorrect, please retry\")\n",
        "    password = input(\"Please re-enter your password: \")\n",
        "  else:\n",
        "    print(f\"Your password is {password}, and it's VALID\")\n"
      ],
      "metadata": {
        "id": "k_Y-fOd_Q9K-",
        "colab": {
          "base_uri": "https://localhost:8080/"
        },
        "outputId": "24d0ac9d-d911-49b5-ab90-18e37e544a1f"
      },
      "execution_count": 13,
      "outputs": [
        {
          "output_type": "stream",
          "name": "stdout",
          "text": [
            "Hi there, kindly create your name & password\n",
            "Please enter your name: Uzor\n",
            "Please enter your password: ··········\n",
            "Your name is Uzor, and you have successfully registered your password\n"
          ]
        }
      ]
    },
    {
      "cell_type": "code",
      "source": [
        "# This code calls and executes the password function.\n",
        "password()"
      ],
      "metadata": {
        "id": "JDiaA7Q4TUJ9"
      },
      "execution_count": null,
      "outputs": []
    },
    {
      "cell_type": "code",
      "source": [
        "# Q4: A Python code that computes the average score of students from a list.\n",
        "''' Assign student scores in a list '''\n",
        "student_scores = [85, 90, 92, 88, 95, 87, 82, 91]\n",
        "\n",
        "# Initialize total_score to zero.\n",
        "total_score = 0\n",
        "\n",
        "# Determine how many student scores there are in the list.\n",
        "no_of_students = len(student_scores)\n",
        "\n",
        "# Perform the computation by adding all scores and finding the average\n",
        "for num in student_scores:\n",
        "  total_score += num\n",
        "avg_score = total_score/no_of_students\n",
        "\n",
        "#Print the average score computed\n",
        "print(f\"The average score of students from the list is {avg_score}\")\n"
      ],
      "metadata": {
        "id": "uqL1WiwBwaHx"
      },
      "execution_count": null,
      "outputs": []
    },
    {
      "cell_type": "code",
      "source": [
        "# Q5: A Python function that accepts two numbers as inputs & returns their product. However, if one of the number is zero, the function will return\n",
        "#'INFINITY' instead of the product.\n",
        "''' Define the function '''\n",
        "def product():\n",
        "  num1 = int(input(\"Enter your first number: \"))\n",
        "  num2 = int(input(\"Enter your second number: \"))\n",
        "  prod = num1 * num2\n",
        "\n",
        "  if prod == 0:\n",
        "    print(f\"One of your input is Zero, therefore your result is 'INFINITY' \")\n",
        "  else:\n",
        "    print(f\"Your result is {prod}\")\n"
      ],
      "metadata": {
        "id": "-ZxdR8W23kzr"
      },
      "execution_count": 16,
      "outputs": []
    },
    {
      "cell_type": "code",
      "source": [
        "# Code executes the product function.\n",
        "product()"
      ],
      "metadata": {
        "id": "7Bo9ibOPJC1o"
      },
      "execution_count": null,
      "outputs": []
    },
    {
      "cell_type": "code",
      "source": [
        "# Q6: Python function that computes the sum of all even numbers between two inputs inclusively.\n",
        "def add_even_numbers(start, end):\n",
        "    ''' Initialize total_sum '''\n",
        "    total_sum = 0\n",
        "\n",
        "    # Ensure start is even to include it in the sum\n",
        "    if start % 2 != 0:\n",
        "        start += 1\n",
        "\n",
        "    # Loop through even numbers and add them to the total_sum\n",
        "    for num in range(start, end + 1, 2):\n",
        "        total_sum += num\n",
        "\n",
        "    return total_sum\n",
        "\n",
        "''' Provide inputs and execute the function '''\n",
        "num1 = int(input(\"Enter first number: \"))\n",
        "num2 = int(input(\"Enter second number, please ensure it's greater that the first number: \"))\n",
        "if num2 >= num1:\n",
        "  result = add_even_numbers(num1, num2)\n",
        "  print(f\"The sum of even numbers between {num1} and {num2} is: {result}\")\n",
        "else:\n",
        "  print(\"Error!!!!. Your second number is less than the first\")"
      ],
      "metadata": {
        "id": "UJQADCSdeJQm"
      },
      "execution_count": null,
      "outputs": []
    },
    {
      "cell_type": "code",
      "source": [
        "# Q7: A Python function that takes a list of numbers as inputs and returns a list containing only the unique elements, removing any duplicates\n",
        "''' Define function expunge duplicates '''\n",
        "def expunge_duplicates(original_list):\n",
        "    xlist = list(set(original_list))\n",
        "    return xlist\n",
        "\n",
        "# Define a sample list and execute the function.\n",
        "num_list = [2,2,4,4,4,4,7,5,6,9,8,7,9,10,2,7,4,2,1,0,2,15]\n",
        "new_list = expunge_duplicates(num_list)\n",
        "print(\"This is the original list:\", num_list)\n",
        "print(\"This is the list with duplicates expunged:\", new_list)"
      ],
      "metadata": {
        "id": "ulbfJCsf5gl_"
      },
      "execution_count": null,
      "outputs": []
    },
    {
      "cell_type": "code",
      "source": [
        "# Q8: A Python code that will determine all odd and even numbers between 1 and 100.\n",
        "# Put the odds in a list named odd and the evens in a list named even.\n",
        "''' Initialize empty lists to store odd and even numbers '''\n",
        "even = []\n",
        "odd = []\n",
        "\n",
        "# Loop through numbers from 1 to 100 (inclusive)\n",
        "for num in range(1, 101):\n",
        "    if num % 2 == 0:\n",
        "        even.append(num)\n",
        "    else:\n",
        "        odd.append(num)\n",
        "\n",
        "''' Print contents of both lists '''\n",
        "print(\"Here's a list of all Even numbers:\", even)\n",
        "print(\"Here's a list of all Odd numbers:\", odd)"
      ],
      "metadata": {
        "id": "Q6N4fo63_bTL"
      },
      "execution_count": null,
      "outputs": []
    },
    {
      "cell_type": "code",
      "source": [
        "# Q9: A Python code that asks the user to input a number between 1 and 5 inclusive. The code will take the integer\n",
        "# value and print out the string value. So for example if the user inputs 2 the code will print two. Reject any input that is not a number in\n",
        "# that range.\n",
        "def word_to_number(num):\n",
        "  list = ['One', 'Two', 'Three', 'Four', 'Five']\n",
        "\n",
        "  '''Uses negative indexing to return the correct word in the above list '''\n",
        "  return list[num -1]\n",
        "\n",
        "while True:\n",
        "  try:\n",
        "    value = int(input(\"Please enter a number between 1 and 5 inclusive: \"))\n",
        "\n",
        "    if 1 <= value <= 5:\n",
        "      output = word_to_number(value)\n",
        "      print(f\"The word conversion of {value} is: {output}\")\n",
        "      break\n",
        "    else:\n",
        "      print(\"Invalid number. Please enter a number between 1 and 5.\")\n",
        "\n",
        "  # Returns an invalid input error if input is not an integer.\n",
        "  except ValueError:\n",
        "    print(\"Invalid input. Please enter a valid integer\")"
      ],
      "metadata": {
        "id": "XPGHs9kXDnC2"
      },
      "execution_count": null,
      "outputs": []
    },
    {
      "cell_type": "code",
      "source": [
        "# Q10: A python function that determines student scholarship eligibility based on certain criteria - above 90% in at least 1 subject.\n",
        "def scholarship_eligibility(math_grade, science_grade, english_grade, history_grade, art_grade):\n",
        "    subjects = [math_grade, science_grade, english_grade, history_grade, art_grade]\n",
        "\n",
        "    ''' counts the subjects that the students scores a grade of 90 and above and returns a true of false count '''\n",
        "    num_above_90 = sum(1 for grade in subjects if grade > 90)\n",
        "\n",
        "    if num_above_90 == 5:\n",
        "        return \"Congratulations! You are eligible for a 100% scholarship.\"\n",
        "    elif num_above_90 == 4:\n",
        "        return \"Congratulations! You are eligible for a 75% scholarship.\"\n",
        "    elif num_above_90 == 3:\n",
        "        return \"Congratulations! You are eligible for a 50% scholarship.\"\n",
        "    elif num_above_90 == 2:\n",
        "        return \"Congratulations! You are eligible for a 25% scholarship.\"\n",
        "    elif num_above_90 == 1:\n",
        "        return \"Congratulations! You are eligible for a 10% scholarship.\"\n",
        "    else:\n",
        "        return \"Sorry, you are not eligible for a scholarship.\"\n",
        "\n",
        "# Collects inputs from user and computes scholarship eligibility.\n",
        "math_grade = float(input(\"Enter your math grade: \"))\n",
        "science_grade = float(input(\"Enter your science grade: \"))\n",
        "english_grade = float(input(\"Enter your English grade: \"))\n",
        "history_grade = float(input(\"Enter your history grade: \"))\n",
        "art_grade = float(input(\"Enter your art grade: \"))\n",
        "\n",
        "result = scholarship_eligibility(math_grade, science_grade, english_grade, history_grade, art_grade)\n",
        "print(result)\n"
      ],
      "metadata": {
        "id": "fqymw5TFS-8g"
      },
      "execution_count": null,
      "outputs": []
    }
  ]
}